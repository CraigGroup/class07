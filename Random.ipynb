{
 "cells": [
  {
   "cell_type": "markdown",
   "metadata": {},
   "source": [
    "Random numbers are useful for many things in computing.  And, guess what, they are easy to use in Python!  We just need to include the random module like this:"
   ]
  },
  {
   "cell_type": "code",
   "execution_count": 1,
   "metadata": {},
   "outputs": [],
   "source": [
    "import random\n"
   ]
  },
  {
   "cell_type": "markdown",
   "metadata": {},
   "source": [
    "Now, you can generate a random number like this."
   ]
  },
  {
   "cell_type": "code",
   "execution_count": 4,
   "metadata": {},
   "outputs": [
    {
     "name": "stdout",
     "output_type": "stream",
     "text": [
      "798\n"
     ]
    }
   ],
   "source": [
    "my_random=random.randint(1,1000)  #get a random number between 1 and 1000\n",
    "print(my_random)\n"
   ]
  },
  {
   "cell_type": "markdown",
   "metadata": {},
   "source": [
    "If we run it again, we will get a differnt number.  run the sectionn above a few times and see. \n",
    "\n",
    "Now, let's do it 5 times in a for loop."
   ]
  },
  {
   "cell_type": "code",
   "execution_count": 21,
   "metadata": {},
   "outputs": [
    {
     "name": "stdout",
     "output_type": "stream",
     "text": [
      "0 )  926\n",
      "1 )  2\n",
      "2 )  581\n",
      "3 )  210\n",
      "4 )  709\n"
     ]
    }
   ],
   "source": [
    "for i in range(0,5):  #loop with i values from 0 to 4\n",
    "    print(i,\") \",random.randint(1,1000))"
   ]
  },
  {
   "cell_type": "markdown",
   "metadata": {},
   "source": [
    "As we discussed in class, random numbers are not truly random, they are based on an algorith.  And the algorithm needs to be seeded to start it.  We can access the Python random number seed with the \"seed\" function.  "
   ]
  },
  {
   "cell_type": "markdown",
   "metadata": {},
   "source": [
    "<span style=\"color:red\">**Exercise 1**:</span>  Print 10 random integers between 0 and 10"
   ]
  },
  {
   "cell_type": "code",
   "execution_count": 7,
   "metadata": {},
   "outputs": [],
   "source": [
    "#Put your code here."
   ]
  },
  {
   "cell_type": "markdown",
   "metadata": {},
   "source": [
    "Random number generators are just a program.  An algorithm to select numbers randomly written in code.  The algorithms need a starting point.  We call that the seed.  "
   ]
  },
  {
   "cell_type": "code",
   "execution_count": 8,
   "metadata": {},
   "outputs": [],
   "source": [
    "random.seed(0)  #Set the random number seed to 0  (any int will do)"
   ]
  },
  {
   "cell_type": "markdown",
   "metadata": {},
   "source": [
    "Once we have set a random number seed we have defined how the algorithm will start.  Let's print some random numbers..."
   ]
  },
  {
   "cell_type": "code",
   "execution_count": 10,
   "metadata": {},
   "outputs": [
    {
     "name": "stdout",
     "output_type": "stream",
     "text": [
      "865\n",
      "395\n",
      "777\n",
      "912\n",
      "431\n",
      "42\n",
      "266\n",
      "989\n",
      "524\n",
      "498\n"
     ]
    }
   ],
   "source": [
    "random.seed(0)\n",
    "for i in range(0,10):\n",
    "    print(random.randint(1,1000))"
   ]
  },
  {
   "cell_type": "markdown",
   "metadata": {},
   "source": [
    "Note:  Now if we set the seed again to exactly the same integer, we should get the same results.  "
   ]
  },
  {
   "cell_type": "code",
   "execution_count": 11,
   "metadata": {},
   "outputs": [
    {
     "name": "stdout",
     "output_type": "stream",
     "text": [
      "865\n",
      "395\n",
      "777\n",
      "912\n",
      "431\n",
      "42\n",
      "266\n",
      "989\n",
      "524\n",
      "498\n"
     ]
    }
   ],
   "source": [
    "random.seed(0)\n",
    "for i in range(0,10):\n",
    "    print(random.randint(1,1000))"
   ]
  },
  {
   "cell_type": "markdown",
   "metadata": {},
   "source": [
    "Once we set the seed to a specific integer, the sequence of number generated is completely determined.  It is just an algorithm, and it is semi-random.  If you set the seed to the same integer, you will get the same sequence of numbers.  So, for example if you run a program with some random nature, it is repeatable if you use the same starting random number seed.    \n",
    "\n",
    "If we don't set the seed, our results will be \"random\":"
   ]
  },
  {
   "cell_type": "code",
   "execution_count": 16,
   "metadata": {},
   "outputs": [
    {
     "name": "stdout",
     "output_type": "stream",
     "text": [
      "445\n",
      "324\n",
      "626\n",
      "656\n",
      "935\n",
      "210\n",
      "990\n",
      "566\n",
      "489\n",
      "454\n"
     ]
    }
   ],
   "source": [
    "\n",
    "for i in range(0,10):\n",
    "    print(random.randint(1,1000))"
   ]
  },
  {
   "cell_type": "markdown",
   "metadata": {},
   "source": [
    "Run the code in the above block a few times - you should see different numbers each time.  \n",
    "\n",
    "<span style=\"color:red\">**Exercise 2**</span>:  Modify the above code to print a random float between -1 and 1.  Hint:  look at documentation for  \"random.uniform\""
   ]
  },
  {
   "cell_type": "code",
   "execution_count": null,
   "metadata": {},
   "outputs": [],
   "source": [
    "#Put your code here"
   ]
  },
  {
   "cell_type": "markdown",
   "metadata": {},
   "source": [
    "Note what happens if we set the seed inside the loop:"
   ]
  },
  {
   "cell_type": "code",
   "execution_count": 15,
   "metadata": {},
   "outputs": [
    {
     "name": "stdout",
     "output_type": "stream",
     "text": [
      "865\n",
      "865\n",
      "865\n",
      "865\n",
      "865\n"
     ]
    }
   ],
   "source": [
    "for i in range(0,5):\n",
    "    random.seed(0)\n",
    "    print(random.randint(1,1000))"
   ]
  },
  {
   "cell_type": "markdown",
   "metadata": {},
   "source": [
    "What happened?  We reset the seed to 0 each time, so we got exactly the same number!  This is almost certainly not what you wanted! \n",
    "\n"
   ]
  },
  {
   "cell_type": "code",
   "execution_count": 16,
   "metadata": {},
   "outputs": [
    {
     "name": "stdout",
     "output_type": "stream",
     "text": [
      "865\n",
      "395\n",
      "777\n",
      "912\n",
      "431\n"
     ]
    }
   ],
   "source": [
    "random.seed(0)\n",
    "for i in range(0,5):\n",
    "    print(random.randint(1,1000))"
   ]
  },
  {
   "cell_type": "markdown",
   "metadata": {},
   "source": [
    "Much better!\n"
   ]
  },
  {
   "cell_type": "markdown",
   "metadata": {},
   "source": [
    "<span style=\"color:red\">**Exercise 3**</span>:  Write code that makes 10 pairs of floats, with random values between between -1 and 1.  That is generate and print two numbers each time through the loop.  "
   ]
  },
  {
   "cell_type": "code",
   "execution_count": null,
   "metadata": {},
   "outputs": [],
   "source": [
    "#Put your code here"
   ]
  },
  {
   "cell_type": "markdown",
   "metadata": {},
   "source": [
    "**Very Important** : Imagine that you wanted to run a simulation, and that it took a long time to run, so, you decide to run it on three machines at the same time. If you wanted to combine these results to obtain higher statistics would you want to start each simulation with the same seed or diferent seeds? \n",
    "\n",
    "What if you want to redo the simulation with the same outcome? You would want to know which seed you used. \n",
    "\n",
    "So, it is good practice to set the seed in the code, and to record it (print it to the screen, or print it to the top of your output file). \n",
    "\n",
    "If you are submitting may jobs, one strategy is to use the job number as the seed. \n",
    "\n",
    "If you want your program to get a new seed each time you run it, you may do it based on the time. Here I show you an example using time. \n",
    "\n",
    "Note: Linux time is often given in the number of seconds since 1970 (or something like that). If you use seconds, and more than one section start on the same second, you might get duplicate results. So, let's use microseconds (10^-6 seconds). \n",
    "\n",
    "\n",
    "We will use the time and datetime modules.  \n"
   ]
  },
  {
   "cell_type": "code",
   "execution_count": 19,
   "metadata": {},
   "outputs": [
    {
     "name": "stdout",
     "output_type": "stream",
     "text": [
      "<built-in method now of type object at 0x7fee2c0d5900>\n",
      "Seconds since 1970: 1663154239\n",
      "Micro Seconds since 1970: 166315423982896\n"
     ]
    }
   ],
   "source": [
    "from datetime import datetime\n",
    "import time\n",
    "\n",
    "print(datetime.now)\n",
    "\n",
    "ts= (datetime.now() - datetime(1970,1,1)).total_seconds()\n",
    "print(\"Seconds since 1970:\",int(ts))\n",
    "print(\"Micro Seconds since 1970:\",int(ts*100000))\n",
    "ms=int(ts*1000)\n"
   ]
  },
  {
   "cell_type": "markdown",
   "metadata": {},
   "source": [
    "Now, we got the integer of microseconds, we can use that as our seed.  "
   ]
  },
  {
   "cell_type": "code",
   "execution_count": 20,
   "metadata": {},
   "outputs": [
    {
     "name": "stdout",
     "output_type": "stream",
     "text": [
      "seed=  1663154241  --> random:  379\n",
      "seed=  1663154241  --> random:  379\n",
      "seed=  1663154241718  --> random:  919\n",
      "seed = 1663154241818  --> random:  995\n"
     ]
    }
   ],
   "source": [
    "\n",
    "ts= (datetime.now() - datetime(1970,1,1)).total_seconds()\n",
    "random.seed(int(ts))\n",
    "\n",
    "print(\"seed= \",int(ts),\" --> random: \",random.randint(0,1000))\n",
    "ts= (datetime.now() - datetime(1970,1,1)).total_seconds()\n",
    "random.seed(int(ts))\n",
    "time.sleep(.1)\n",
    "\n",
    "print(\"seed= \",int(ts),\" --> random: \",random.randint(0,1000))\n",
    "\n",
    "\n",
    "ts= (datetime.now() - datetime(1970,1,1)).total_seconds()\n",
    "\n",
    "ms=int(ts*1000)\n",
    "random.seed(ms)\n",
    "\n",
    "print(\"seed= \",int(ms),\" --> random: \",random.randint(0,1000))\n",
    "\n",
    "time.sleep(.1)\n",
    "ts= (datetime.now() - datetime(1970,1,1)).total_seconds()\n",
    "ms=int(ts*1000)\n",
    "random.seed(ms)\n",
    "\n",
    "print(\"seed =\",int(ms),\" --> random: \",random.randint(0,1000))\n"
   ]
  },
  {
   "cell_type": "markdown",
   "metadata": {},
   "source": [
    "So, you can set your seed based on the time, and record it by printing it to the screen or to your output file.  NOTE:  normally you only set the seed once at the beginning of the program.  I was just playing with it here to make a point.  \n",
    "\n",
    "**Major take-home lesson**:  Random numbers are useful, and the seed sets the starting point for the algorith.  It is good practice to **set your random seed**, and to **record it in your program output**.    "
   ]
  },
  {
   "cell_type": "markdown",
   "metadata": {},
   "source": [
    "Now, from your Rivanna command line, you may add, commit, and push your changes to GitHub.  \n"
   ]
  }
 ],
 "metadata": {
  "kernelspec": {
   "display_name": "Python 3 (ipykernel)",
   "language": "python",
   "name": "python3"
  },
  "language_info": {
   "codemirror_mode": {
    "name": "ipython",
    "version": 3
   },
   "file_extension": ".py",
   "mimetype": "text/x-python",
   "name": "python",
   "nbconvert_exporter": "python",
   "pygments_lexer": "ipython3",
   "version": "3.8.8"
  }
 },
 "nbformat": 4,
 "nbformat_minor": 4
}
